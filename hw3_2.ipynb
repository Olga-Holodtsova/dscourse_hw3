{
 "cells": [
  {
   "cell_type": "code",
   "execution_count": 2,
   "id": "eb00a0c8",
   "metadata": {
    "execution": {
     "iopub.execute_input": "2023-07-23T05:31:23.571544Z",
     "iopub.status.busy": "2023-07-23T05:31:23.571026Z",
     "iopub.status.idle": "2023-07-23T05:31:24.815497Z",
     "shell.execute_reply": "2023-07-23T05:31:24.814508Z",
     "shell.execute_reply.started": "2023-07-23T05:31:23.571500Z"
    }
   },
   "outputs": [
    {
     "name": "stderr",
     "output_type": "stream",
     "text": [
      "/opt/conda/lib/python3.10/site-packages/scipy/__init__.py:146: UserWarning: A NumPy version >=1.16.5 and <1.23.0 is required for this version of SciPy (detected version 1.23.5\n",
      "  warnings.warn(f\"A NumPy version >={np_minversion} and <{np_maxversion}\"\n"
     ]
    }
   ],
   "source": [
    "import numpy as np\n",
    "import pandas as pd\n",
    "import matplotlib.pyplot as plt\n",
    "import seaborn as sns\n",
    "\n",
    "%matplotlib inline \n",
    "\n",
    "from sklearn.linear_model import LogisticRegression\n",
    "from sklearn.neighbors import KNeighborsClassifier\n",
    "from sklearn.ensemble import RandomForestClassifier\n",
    "from sklearn.tree import DecisionTreeClassifier\n",
    "from sklearn.svm import SVC\n",
    "from sklearn.naive_bayes import GaussianNB\n",
    "\n",
    "from sklearn.model_selection import train_test_split, cross_val_score"
   ]
  },
  {
   "cell_type": "code",
   "execution_count": 3,
   "id": "85d7aff8",
   "metadata": {
    "execution": {
     "iopub.execute_input": "2023-07-23T05:31:24.818417Z",
     "iopub.status.busy": "2023-07-23T05:31:24.817951Z",
     "iopub.status.idle": "2023-07-23T05:31:25.047010Z",
     "shell.execute_reply": "2023-07-23T05:31:25.045679Z",
     "shell.execute_reply.started": "2023-07-23T05:31:24.818358Z"
    }
   },
   "outputs": [
    {
     "data": {
      "text/html": [
       "<div>\n",
       "<style scoped>\n",
       "    .dataframe tbody tr th:only-of-type {\n",
       "        vertical-align: middle;\n",
       "    }\n",
       "\n",
       "    .dataframe tbody tr th {\n",
       "        vertical-align: top;\n",
       "    }\n",
       "\n",
       "    .dataframe thead th {\n",
       "        text-align: right;\n",
       "    }\n",
       "</style>\n",
       "<table border=\"1\" class=\"dataframe\">\n",
       "  <thead>\n",
       "    <tr style=\"text-align: right;\">\n",
       "      <th></th>\n",
       "      <th>gender</th>\n",
       "      <th>age</th>\n",
       "      <th>hypertension</th>\n",
       "      <th>heart_disease</th>\n",
       "      <th>smoking_history</th>\n",
       "      <th>bmi</th>\n",
       "      <th>HbA1c_level</th>\n",
       "      <th>blood_glucose_level</th>\n",
       "      <th>diabetes</th>\n",
       "    </tr>\n",
       "  </thead>\n",
       "  <tbody>\n",
       "    <tr>\n",
       "      <th>0</th>\n",
       "      <td>Female</td>\n",
       "      <td>80.0</td>\n",
       "      <td>0</td>\n",
       "      <td>1</td>\n",
       "      <td>never</td>\n",
       "      <td>25.19</td>\n",
       "      <td>6.6</td>\n",
       "      <td>140</td>\n",
       "      <td>0</td>\n",
       "    </tr>\n",
       "    <tr>\n",
       "      <th>1</th>\n",
       "      <td>Female</td>\n",
       "      <td>54.0</td>\n",
       "      <td>0</td>\n",
       "      <td>0</td>\n",
       "      <td>No Info</td>\n",
       "      <td>27.32</td>\n",
       "      <td>6.6</td>\n",
       "      <td>80</td>\n",
       "      <td>0</td>\n",
       "    </tr>\n",
       "    <tr>\n",
       "      <th>2</th>\n",
       "      <td>Male</td>\n",
       "      <td>28.0</td>\n",
       "      <td>0</td>\n",
       "      <td>0</td>\n",
       "      <td>never</td>\n",
       "      <td>27.32</td>\n",
       "      <td>5.7</td>\n",
       "      <td>158</td>\n",
       "      <td>0</td>\n",
       "    </tr>\n",
       "    <tr>\n",
       "      <th>3</th>\n",
       "      <td>Female</td>\n",
       "      <td>36.0</td>\n",
       "      <td>0</td>\n",
       "      <td>0</td>\n",
       "      <td>current</td>\n",
       "      <td>23.45</td>\n",
       "      <td>5.0</td>\n",
       "      <td>155</td>\n",
       "      <td>0</td>\n",
       "    </tr>\n",
       "    <tr>\n",
       "      <th>4</th>\n",
       "      <td>Male</td>\n",
       "      <td>76.0</td>\n",
       "      <td>1</td>\n",
       "      <td>1</td>\n",
       "      <td>current</td>\n",
       "      <td>20.14</td>\n",
       "      <td>4.8</td>\n",
       "      <td>155</td>\n",
       "      <td>0</td>\n",
       "    </tr>\n",
       "  </tbody>\n",
       "</table>\n",
       "</div>"
      ],
      "text/plain": [
       "   gender   age  hypertension  heart_disease smoking_history    bmi  \\\n",
       "0  Female  80.0             0              1           never  25.19   \n",
       "1  Female  54.0             0              0         No Info  27.32   \n",
       "2    Male  28.0             0              0           never  27.32   \n",
       "3  Female  36.0             0              0         current  23.45   \n",
       "4    Male  76.0             1              1         current  20.14   \n",
       "\n",
       "   HbA1c_level  blood_glucose_level  diabetes  \n",
       "0          6.6                  140         0  \n",
       "1          6.6                   80         0  \n",
       "2          5.7                  158         0  \n",
       "3          5.0                  155         0  \n",
       "4          4.8                  155         0  "
      ]
     },
     "execution_count": 3,
     "metadata": {},
     "output_type": "execute_result"
    }
   ],
   "source": [
    "data = pd.read_csv('/kaggle/input/diabetes-prediction-dataset/diabetes_prediction_dataset.csv')\n",
    "data.head()"
   ]
  },
  {
   "cell_type": "code",
   "execution_count": 4,
   "id": "3e694e12",
   "metadata": {
    "execution": {
     "iopub.execute_input": "2023-07-23T05:31:25.048756Z",
     "iopub.status.busy": "2023-07-23T05:31:25.048274Z",
     "iopub.status.idle": "2023-07-23T05:31:25.055178Z",
     "shell.execute_reply": "2023-07-23T05:31:25.054016Z",
     "shell.execute_reply.started": "2023-07-23T05:31:25.048721Z"
    }
   },
   "outputs": [
    {
     "data": {
      "text/plain": [
       "(100000, 9)"
      ]
     },
     "execution_count": 4,
     "metadata": {},
     "output_type": "execute_result"
    }
   ],
   "source": [
    "# number of column and rows\n",
    "data.shape"
   ]
  },
  {
   "cell_type": "code",
   "execution_count": 5,
   "id": "3ef256fa",
   "metadata": {
    "execution": {
     "iopub.execute_input": "2023-07-23T05:31:25.056816Z",
     "iopub.status.busy": "2023-07-23T05:31:25.056474Z",
     "iopub.status.idle": "2023-07-23T05:31:25.141749Z",
     "shell.execute_reply": "2023-07-23T05:31:25.140628Z",
     "shell.execute_reply.started": "2023-07-23T05:31:25.056788Z"
    }
   },
   "outputs": [
    {
     "data": {
      "text/plain": [
       "gender                 0\n",
       "age                    0\n",
       "hypertension           0\n",
       "heart_disease          0\n",
       "smoking_history        0\n",
       "bmi                    0\n",
       "HbA1c_level            0\n",
       "blood_glucose_level    0\n",
       "diabetes               0\n",
       "dtype: int64"
      ]
     },
     "execution_count": 5,
     "metadata": {},
     "output_type": "execute_result"
    }
   ],
   "source": [
    "data.isna().sum()"
   ]
  },
  {
   "cell_type": "code",
   "execution_count": 6,
   "id": "105175d9",
   "metadata": {
    "execution": {
     "iopub.execute_input": "2023-07-23T05:31:25.146073Z",
     "iopub.status.busy": "2023-07-23T05:31:25.145484Z",
     "iopub.status.idle": "2023-07-23T05:31:25.238254Z",
     "shell.execute_reply": "2023-07-23T05:31:25.236997Z",
     "shell.execute_reply.started": "2023-07-23T05:31:25.146042Z"
    }
   },
   "outputs": [
    {
     "name": "stdout",
     "output_type": "stream",
     "text": [
      "<class 'pandas.core.frame.DataFrame'>\n",
      "RangeIndex: 100000 entries, 0 to 99999\n",
      "Data columns (total 9 columns):\n",
      " #   Column               Non-Null Count   Dtype  \n",
      "---  ------               --------------   -----  \n",
      " 0   gender               100000 non-null  object \n",
      " 1   age                  100000 non-null  float64\n",
      " 2   hypertension         100000 non-null  int64  \n",
      " 3   heart_disease        100000 non-null  int64  \n",
      " 4   smoking_history      100000 non-null  object \n",
      " 5   bmi                  100000 non-null  float64\n",
      " 6   HbA1c_level          100000 non-null  float64\n",
      " 7   blood_glucose_level  100000 non-null  int64  \n",
      " 8   diabetes             100000 non-null  int64  \n",
      "dtypes: float64(3), int64(4), object(2)\n",
      "memory usage: 6.9+ MB\n"
     ]
    }
   ],
   "source": [
    "data.info()"
   ]
  },
  {
   "cell_type": "code",
   "execution_count": 7,
   "id": "d9b6abf8",
   "metadata": {
    "execution": {
     "iopub.execute_input": "2023-07-23T05:31:25.242437Z",
     "iopub.status.busy": "2023-07-23T05:31:25.242047Z",
     "iopub.status.idle": "2023-07-23T05:31:25.254891Z",
     "shell.execute_reply": "2023-07-23T05:31:25.253519Z",
     "shell.execute_reply.started": "2023-07-23T05:31:25.242403Z"
    }
   },
   "outputs": [],
   "source": [
    "# frist split into x & y\n",
    "np.random.seed(42)\n",
    "x = data.drop('diabetes', axis=1)\n",
    "y = data['diabetes']"
   ]
  },
  {
   "cell_type": "code",
   "execution_count": 8,
   "id": "db6de11d",
   "metadata": {
    "execution": {
     "iopub.execute_input": "2023-07-23T05:31:25.256806Z",
     "iopub.status.busy": "2023-07-23T05:31:25.256348Z",
     "iopub.status.idle": "2023-07-23T05:31:25.402320Z",
     "shell.execute_reply": "2023-07-23T05:31:25.401043Z",
     "shell.execute_reply.started": "2023-07-23T05:31:25.256774Z"
    }
   },
   "outputs": [],
   "source": [
    "# Turn the categories into numbers\n",
    "from sklearn.preprocessing import OneHotEncoder\n",
    "from sklearn.compose import ColumnTransformer\n",
    "\n",
    "categorical_features = ['gender', 'smoking_history']\n",
    "one_hot = OneHotEncoder()\n",
    "transformer = ColumnTransformer([('one_hot',\n",
    "                                 one_hot,\n",
    "                                 categorical_features)],\n",
    "                               remainder=\"passthrough\")\n",
    "\n",
    "transformed_x = transformer.fit_transform(x)\n"
   ]
  },
  {
   "cell_type": "code",
   "execution_count": 9,
   "id": "a14ac51a",
   "metadata": {
    "execution": {
     "iopub.execute_input": "2023-07-23T05:31:25.404352Z",
     "iopub.status.busy": "2023-07-23T05:31:25.403917Z",
     "iopub.status.idle": "2023-07-23T05:31:25.427470Z",
     "shell.execute_reply": "2023-07-23T05:31:25.426448Z",
     "shell.execute_reply.started": "2023-07-23T05:31:25.404313Z"
    }
   },
   "outputs": [],
   "source": [
    "\n",
    "x_train, x_test, y_train, y_test = train_test_split(transformed_x, y, test_size=0.2)"
   ]
  },
  {
   "cell_type": "code",
   "execution_count": 10,
   "id": "adb0c51d",
   "metadata": {
    "execution": {
     "iopub.execute_input": "2023-07-23T05:31:25.429084Z",
     "iopub.status.busy": "2023-07-23T05:31:25.428773Z",
     "iopub.status.idle": "2023-07-23T05:31:25.437967Z",
     "shell.execute_reply": "2023-07-23T05:31:25.436830Z",
     "shell.execute_reply.started": "2023-07-23T05:31:25.429058Z"
    }
   },
   "outputs": [],
   "source": [
    "# find best model\n",
    "models = {\n",
    "    \"Logistic Regression\": LogisticRegression(),\n",
    "    'K-Nearest': KNeighborsClassifier(),\n",
    "    'Random Forest': RandomForestClassifier(),\n",
    "    'Decision Tree': DecisionTreeClassifier(),\n",
    "    'SVM': SVC(),\n",
    "    'Naive Bayes': GaussianNB()\n",
    "}\n",
    "\n",
    "def fit_and_score(models, x_train, x_test, y_train, y_test):\n",
    "    np.random.seed(42)\n",
    "    model_score = {}\n",
    "    for name, model in models.items():\n",
    "        model.fit(x_train, y_train)\n",
    "        model_score[name] = model.score(x_test, y_test)\n",
    "    return model_score\n"
   ]
  },
  {
   "cell_type": "code",
   "execution_count": 11,
   "id": "e60b69d7",
   "metadata": {
    "execution": {
     "iopub.execute_input": "2023-07-23T05:31:25.439710Z",
     "iopub.status.busy": "2023-07-23T05:31:25.439365Z",
     "iopub.status.idle": "2023-07-23T05:32:39.007918Z",
     "shell.execute_reply": "2023-07-23T05:32:39.006974Z",
     "shell.execute_reply.started": "2023-07-23T05:31:25.439683Z"
    }
   },
   "outputs": [
    {
     "name": "stderr",
     "output_type": "stream",
     "text": [
      "/opt/conda/lib/python3.10/site-packages/sklearn/linear_model/_logistic.py:458: ConvergenceWarning: lbfgs failed to converge (status=1):\n",
      "STOP: TOTAL NO. of ITERATIONS REACHED LIMIT.\n",
      "\n",
      "Increase the number of iterations (max_iter) or scale the data as shown in:\n",
      "    https://scikit-learn.org/stable/modules/preprocessing.html\n",
      "Please also refer to the documentation for alternative solver options:\n",
      "    https://scikit-learn.org/stable/modules/linear_model.html#logistic-regression\n",
      "  n_iter_i = _check_optimize_result(\n"
     ]
    }
   ],
   "source": [
    "model_scores = fit_and_score(models, x_train, x_test, y_train, y_test);"
   ]
  },
  {
   "cell_type": "code",
   "execution_count": 12,
   "id": "1a62218a",
   "metadata": {
    "execution": {
     "iopub.execute_input": "2023-07-23T05:32:39.009964Z",
     "iopub.status.busy": "2023-07-23T05:32:39.009355Z",
     "iopub.status.idle": "2023-07-23T05:32:39.016912Z",
     "shell.execute_reply": "2023-07-23T05:32:39.015868Z",
     "shell.execute_reply.started": "2023-07-23T05:32:39.009933Z"
    }
   },
   "outputs": [
    {
     "data": {
      "text/plain": [
       "{'Logistic Regression': 0.9557,\n",
       " 'K-Nearest': 0.9544,\n",
       " 'Random Forest': 0.97005,\n",
       " 'Decision Tree': 0.95245,\n",
       " 'SVM': 0.94645,\n",
       " 'Naive Bayes': 0.858}"
      ]
     },
     "execution_count": 12,
     "metadata": {},
     "output_type": "execute_result"
    }
   ],
   "source": [
    "model_scores"
   ]
  },
  {
   "cell_type": "code",
   "execution_count": 13,
   "id": "451123b3",
   "metadata": {
    "execution": {
     "iopub.execute_input": "2023-07-23T05:32:39.018753Z",
     "iopub.status.busy": "2023-07-23T05:32:39.018365Z",
     "iopub.status.idle": "2023-07-23T05:32:39.033659Z",
     "shell.execute_reply": "2023-07-23T05:32:39.032280Z",
     "shell.execute_reply.started": "2023-07-23T05:32:39.018723Z"
    }
   },
   "outputs": [
    {
     "name": "stdout",
     "output_type": "stream",
     "text": [
      "The Accuracy of Random Forest classifier Model: %97.005\n"
     ]
    }
   ],
   "source": [
    "print(f\"The Accuracy of Random Forest classifier Model: %{model_scores['Random Forest']*100 }\")"
   ]
  },
  {
   "cell_type": "code",
   "execution_count": 14,
   "id": "b0589d33",
   "metadata": {
    "execution": {
     "iopub.execute_input": "2023-07-23T05:32:39.035970Z",
     "iopub.status.busy": "2023-07-23T05:32:39.035569Z",
     "iopub.status.idle": "2023-07-23T05:32:46.699453Z",
     "shell.execute_reply": "2023-07-23T05:32:46.698375Z",
     "shell.execute_reply.started": "2023-07-23T05:32:39.035934Z"
    }
   },
   "outputs": [
    {
     "data": {
      "text/plain": [
       "0.9702"
      ]
     },
     "execution_count": 14,
     "metadata": {},
     "output_type": "execute_result"
    }
   ],
   "source": [
    "model = RandomForestClassifier(n_estimators=100)\n",
    "model.fit(x_train, y_train)\n",
    "model.score(x_test, y_test)"
   ]
  },
  {
   "cell_type": "code",
   "execution_count": 15,
   "id": "33bedd7e",
   "metadata": {
    "execution": {
     "iopub.execute_input": "2023-07-23T05:32:46.705349Z",
     "iopub.status.busy": "2023-07-23T05:32:46.705016Z",
     "iopub.status.idle": "2023-07-23T05:34:21.488726Z",
     "shell.execute_reply": "2023-07-23T05:34:21.487574Z",
     "shell.execute_reply.started": "2023-07-23T05:32:46.705322Z"
    }
   },
   "outputs": [],
   "source": [
    "\n",
    "model = RandomForestClassifier(n_estimators=100)\n",
    "model.fit(x_train, y_train)\n",
    "\n",
    "# Cross-validated accuracy\n",
    "cv_rf = cross_val_score(model,\n",
    "                       transformed_x,\n",
    "                       y,\n",
    "                       cv=10,\n",
    "                       scoring='accuracy')\n",
    "cv_acc = np.mean(cv_rf)"
   ]
  },
  {
   "cell_type": "code",
   "execution_count": 16,
   "id": "b05522d6",
   "metadata": {
    "execution": {
     "iopub.execute_input": "2023-07-23T05:34:21.490479Z",
     "iopub.status.busy": "2023-07-23T05:34:21.490145Z",
     "iopub.status.idle": "2023-07-23T05:35:47.406210Z",
     "shell.execute_reply": "2023-07-23T05:35:47.405192Z",
     "shell.execute_reply.started": "2023-07-23T05:34:21.490450Z"
    }
   },
   "outputs": [],
   "source": [
    "# Cross-validated precision\n",
    "cv_precision = cross_val_score(model,\n",
    "                       transformed_x,\n",
    "                       y,\n",
    "                       cv=10,\n",
    "                       scoring='precision')\n",
    "cv_precision = np.mean(cv_precision)\n"
   ]
  },
  {
   "cell_type": "code",
   "execution_count": 17,
   "id": "72ea8cec",
   "metadata": {
    "execution": {
     "iopub.execute_input": "2023-07-23T05:35:47.407749Z",
     "iopub.status.busy": "2023-07-23T05:35:47.407430Z",
     "iopub.status.idle": "2023-07-23T05:37:14.517099Z",
     "shell.execute_reply": "2023-07-23T05:37:14.515965Z",
     "shell.execute_reply.started": "2023-07-23T05:35:47.407722Z"
    }
   },
   "outputs": [],
   "source": [
    "# Cross-validated recall\n",
    "cv_recall = cross_val_score(model,\n",
    "                       transformed_x,\n",
    "                       y,\n",
    "                       cv=10,\n",
    "                       scoring='recall')\n",
    "cv_recall = np.mean(cv_recall)\n"
   ]
  },
  {
   "cell_type": "code",
   "execution_count": 18,
   "id": "542dae3b",
   "metadata": {
    "execution": {
     "iopub.execute_input": "2023-07-23T05:37:14.519307Z",
     "iopub.status.busy": "2023-07-23T05:37:14.518934Z",
     "iopub.status.idle": "2023-07-23T05:37:14.525702Z",
     "shell.execute_reply": "2023-07-23T05:37:14.524571Z",
     "shell.execute_reply.started": "2023-07-23T05:37:14.519273Z"
    }
   },
   "outputs": [
    {
     "name": "stdout",
     "output_type": "stream",
     "text": [
      "Cross-validated accuracy: %96.971\n",
      "Cross-validated precision: 0.941815427959298\n",
      "Cross-validated recall: 0.6869411764705882\n"
     ]
    }
   ],
   "source": [
    "print(f\"Cross-validated accuracy: %{cv_acc * 100}\")\n",
    "print(f\"Cross-validated precision: {cv_precision}\")\n",
    "print(f\"Cross-validated recall: {cv_recall}\")"
   ]
  },
  {
   "cell_type": "code",
   "execution_count": 20,
   "id": "565f4a5e",
   "metadata": {
    "execution": {
     "iopub.execute_input": "2023-07-23T05:38:43.732634Z",
     "iopub.status.busy": "2023-07-23T05:38:43.732132Z",
     "iopub.status.idle": "2023-07-23T05:40:17.921169Z",
     "shell.execute_reply": "2023-07-23T05:40:17.919888Z",
     "shell.execute_reply.started": "2023-07-23T05:38:43.732597Z"
    }
   },
   "outputs": [
    {
     "data": {
      "text/plain": [
       "0.9696299999999999"
      ]
     },
     "execution_count": 20,
     "metadata": {},
     "output_type": "execute_result"
    }
   ],
   "source": [
    "import numpy as np\n",
    "import pandas as pd\n",
    "import matplotlib.pyplot as plt\n",
    "import seaborn as sns\n",
    "\n",
    "%matplotlib inline \n",
    "\n",
    "from sklearn.linear_model import LogisticRegression\n",
    "from sklearn.neighbors import KNeighborsClassifier\n",
    "from sklearn.ensemble import RandomForestClassifier\n",
    "from sklearn.tree import DecisionTreeClassifier\n",
    "from sklearn.svm import SVC\n",
    "from sklearn.naive_bayes import GaussianNB\n",
    "\n",
    "from sklearn.model_selection import train_test_split, cross_val_score\n",
    "from sklearn.preprocessing import OneHotEncoder\n",
    "from sklearn.compose import ColumnTransformer\n",
    "\n",
    "\n",
    "# loading data\n",
    "data = pd.read_csv('/kaggle/input/diabetes-prediction-dataset/diabetes_prediction_dataset.csv')\n",
    "\n",
    "\n",
    "# frist split into x & y\n",
    "np.random.seed(42)\n",
    "x = data.drop('diabetes', axis=1)\n",
    "y = data['diabetes']\n",
    "\n",
    "\n",
    "# Turn the categories into numbers\n",
    "categorical_features = ['gender', 'smoking_history']\n",
    "one_hot = OneHotEncoder()\n",
    "transformer = ColumnTransformer([('one_hot',\n",
    "                                 one_hot,\n",
    "                                 categorical_features)],\n",
    "                               remainder=\"passthrough\")\n",
    "\n",
    "transformed_x = transformer.fit_transform(x)\n",
    "\n",
    "\n",
    "x_train, x_test, y_train, y_test = train_test_split(transformed_x, y, test_size=0.2)\n",
    "\n",
    "\n",
    "model = RandomForestClassifier(n_estimators=100)\n",
    "model.fit(x_train, y_train)\n",
    "cv_rf = cross_val_score(model,\n",
    "                       transformed_x,\n",
    "                       y,\n",
    "                       cv=10,\n",
    "                       scoring='accuracy')\n",
    "np.mean(cv_rf)\n",
    "\n"
   ]
  },
  {
   "cell_type": "code",
   "execution_count": null,
   "id": "84086747",
   "metadata": {},
   "outputs": [],
   "source": []
  }
 ],
 "metadata": {
  "kernelspec": {
   "display_name": "Python 3 (ipykernel)",
   "language": "python",
   "name": "python3"
  },
  "language_info": {
   "codemirror_mode": {
    "name": "ipython",
    "version": 3
   },
   "file_extension": ".py",
   "mimetype": "text/x-python",
   "name": "python",
   "nbconvert_exporter": "python",
   "pygments_lexer": "ipython3",
   "version": "3.11.5"
  }
 },
 "nbformat": 4,
 "nbformat_minor": 5
}
